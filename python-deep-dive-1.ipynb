{
 "cells": [
  {
   "cell_type": "code",
   "execution_count": 2,
   "metadata": {},
   "outputs": [],
   "source": [
    "############Section 2 ####################\n",
    "#Python type hierarchy\n",
    "#Integral--integers,boolean\n",
    "#Non-Integral -- floats, complex,decimals, fractions\n",
    "#collections --sequences, sets, mappings\n",
    "#sequences -- mutable, immutable\n",
    "#sequences - mutable -- lists\n",
    "#sequences - immutable -- tuples, strings\n",
    "#sets -- mutable, immutable\n",
    "#sets - mutable -- sets\n",
    "#sets - immutable -- frozen sets\n",
    "#mappings - dictionaries\n",
    "#callables -- user-defined fucntions, generators, class, instance methods, class instances, build in functions/methods\n",
    "#singletones -- None, NotImplemented, ellipses(...)\n"
   ]
  },
  {
   "cell_type": "code",
   "execution_count": 2,
   "metadata": {},
   "outputs": [
    {
     "name": "stdout",
     "output_type": "stream",
     "text": [
      "1 2 3\n",
      "1 2 3\n",
      "\n",
      "    This is how \n",
      "         it is \n",
      " also\n",
      "\n"
     ]
    }
   ],
   "source": [
    "# multiline comments\n",
    "# physical and logical \n",
    "#Implicit\n",
    "# list, tuple, dicitonary, set, func parameters\n",
    "def my_func(a, #supports inline comment\n",
    "           b,\n",
    "           c):\n",
    "    print(a,\n",
    "          b,\n",
    "          c)\n",
    "\n",
    "#Explicit\n",
    "def explicit_test(a,b,c):\n",
    "    #Needed to explicitly write backslash and doesnot support inline comment\n",
    "    if a \\\n",
    "        and b \\\n",
    "        and c:\n",
    "        print(a,b,c)\n",
    "\n",
    "my_func(1,2,3)\n",
    "explicit_test(1,2,3)\n",
    "\n",
    "#multiline string literals\n",
    "x = \"\"\"\n",
    "    This is how \n",
    "         it is \\n also\n",
    "\"\"\"\n",
    "print(x)"
   ]
  },
  {
   "cell_type": "code",
   "execution_count": 12,
   "metadata": {},
   "outputs": [],
   "source": [
    "#Variable names\n",
    "#case-sensitive,no start with numbers, no reserved words\n",
    "#conventions\n",
    "# single _ means internal use or private, WILL NOT GET IMPORTED\n",
    "#from module import *\n",
    "# double __ means mangle class attributes, useful in inheritance chains\n",
    "# __var__ are system defined names special meaning, DONT INVENT THEM\n",
    "#Packages - utilities\n",
    "#modules - db_utils\n",
    "#classes - BankAccount\n",
    "#functions - open_account\n",
    "#variables - account_id\n",
    "#constants - MIN_APR"
   ]
  },
  {
   "cell_type": "code",
   "execution_count": 3,
   "metadata": {},
   "outputs": [
    {
     "name": "stdout",
     "output_type": "stream",
     "text": [
      "a >= 10\n",
      "a >= 10\n"
     ]
    }
   ],
   "source": [
    "#conditionals\n",
    "a = 15\n",
    "if a < 5:\n",
    "    print('a < 5')\n",
    "elif a < 10:\n",
    "    print('5 <= a < 10')\n",
    "else:\n",
    "    print('a >= 10')\n",
    "\n",
    "#same line\n",
    "a = 15\n",
    "res = 'a < 10' if a < 10 else 'a >= 10'\n",
    "print(res)"
   ]
  },
  {
   "cell_type": "code",
   "execution_count": 6,
   "metadata": {},
   "outputs": [
    {
     "name": "stdout",
     "output_type": "stream",
     "text": [
      "Hello\n"
     ]
    },
    {
     "ename": "NameError",
     "evalue": "name 'fn_4' is not defined",
     "output_type": "error",
     "traceback": [
      "\u001b[1;31m---------------------------------------------------------------------------\u001b[0m",
      "\u001b[1;31mNameError\u001b[0m                                 Traceback (most recent call last)",
      "\u001b[1;32m<ipython-input-6-ecf736a829e4>\u001b[0m in \u001b[0;36m<module>\u001b[1;34m\u001b[0m\n\u001b[0;32m     21\u001b[0m     \u001b[0mfn_4\u001b[0m\u001b[1;33m(\u001b[0m\u001b[1;33m)\u001b[0m\u001b[1;33m\u001b[0m\u001b[1;33m\u001b[0m\u001b[0m\n\u001b[0;32m     22\u001b[0m \u001b[1;33m\u001b[0m\u001b[0m\n\u001b[1;32m---> 23\u001b[1;33m \u001b[0mfn_3\u001b[0m\u001b[1;33m(\u001b[0m\u001b[1;33m)\u001b[0m\u001b[1;33m\u001b[0m\u001b[1;33m\u001b[0m\u001b[0m\n\u001b[0m\u001b[0;32m     24\u001b[0m \u001b[1;33m\u001b[0m\u001b[0m\n\u001b[0;32m     25\u001b[0m \u001b[1;32mdef\u001b[0m \u001b[0mfn_4\u001b[0m\u001b[1;33m(\u001b[0m\u001b[1;33m)\u001b[0m\u001b[1;33m:\u001b[0m\u001b[1;33m\u001b[0m\u001b[1;33m\u001b[0m\u001b[0m\n",
      "\u001b[1;32m<ipython-input-6-ecf736a829e4>\u001b[0m in \u001b[0;36mfn_3\u001b[1;34m()\u001b[0m\n\u001b[0;32m     19\u001b[0m \u001b[1;31m#this will not work as functions are not defined before being invoked\u001b[0m\u001b[1;33m\u001b[0m\u001b[1;33m\u001b[0m\u001b[1;33m\u001b[0m\u001b[0m\n\u001b[0;32m     20\u001b[0m \u001b[1;32mdef\u001b[0m \u001b[0mfn_3\u001b[0m\u001b[1;33m(\u001b[0m\u001b[1;33m)\u001b[0m\u001b[1;33m:\u001b[0m\u001b[1;33m\u001b[0m\u001b[1;33m\u001b[0m\u001b[0m\n\u001b[1;32m---> 21\u001b[1;33m     \u001b[0mfn_4\u001b[0m\u001b[1;33m(\u001b[0m\u001b[1;33m)\u001b[0m\u001b[1;33m\u001b[0m\u001b[1;33m\u001b[0m\u001b[0m\n\u001b[0m\u001b[0;32m     22\u001b[0m \u001b[1;33m\u001b[0m\u001b[0m\n\u001b[0;32m     23\u001b[0m \u001b[0mfn_3\u001b[0m\u001b[1;33m(\u001b[0m\u001b[1;33m)\u001b[0m\u001b[1;33m\u001b[0m\u001b[1;33m\u001b[0m\u001b[0m\n",
      "\u001b[1;31mNameError\u001b[0m: name 'fn_4' is not defined"
     ]
    }
   ],
   "source": [
    "#functions\n",
    "#possible to use annotations\n",
    "def func_3(a: int, b:int):\n",
    "    return a * b\n",
    "func_3(2, 3)\n",
    "\n",
    "# these do not enforce a data type\n",
    "# if no return, return None\n",
    "# functions are objects\n",
    "# this willl work as functions are defined before being invoked\n",
    "def fn_1():\n",
    "    fn_2()\n",
    "    \n",
    "def fn_2():\n",
    "    print('Hello')\n",
    "    \n",
    "fn_1()\n",
    "\n",
    "#this will not work as functions are not defined before being invoked\n",
    "def fn_3():\n",
    "    fn_4()\n",
    "\n",
    "fn_3()\n",
    "\n",
    "def fn_4():\n",
    "    print('Hello')"
   ]
  },
  {
   "cell_type": "code",
   "execution_count": 7,
   "metadata": {},
   "outputs": [
    {
     "data": {
      "text/plain": [
       "9"
      ]
     },
     "execution_count": 7,
     "metadata": {},
     "output_type": "execute_result"
    }
   ],
   "source": [
    "func_5 = lambda x: x**2\n",
    "# giving name to lambda functions\n",
    "func_5(3)"
   ]
  },
  {
   "cell_type": "code",
   "execution_count": 8,
   "metadata": {},
   "outputs": [
    {
     "name": "stdout",
     "output_type": "stream",
     "text": [
      "Please enter your name:ajay\n",
      "Hello, ajay\n"
     ]
    }
   ],
   "source": [
    "# while loop\n",
    "min_length = 2\n",
    "\n",
    "while True:\n",
    "    name = input('Please enter your name:')\n",
    "    if len(name) >= min_length  and name.isprintable() and name.isalpha():\n",
    "        break\n",
    "\n",
    "print('Hello, {0}'.format(name))"
   ]
  },
  {
   "cell_type": "code",
   "execution_count": 9,
   "metadata": {},
   "outputs": [
    {
     "name": "stdout",
     "output_type": "stream",
     "text": [
      "-------------\n",
      "1, 1 - always executes\n",
      "1, 1 - main loop\n",
      "-------------\n",
      "2, 0 - division by 0\n",
      "2, 0 - always executes\n"
     ]
    }
   ],
   "source": [
    "# break, continue, try\n",
    "# finally always executes even after break or continue in except block\n",
    "a = 0\n",
    "b = 2\n",
    "\n",
    "while a < 3:\n",
    "    print('-------------')\n",
    "    a += 1\n",
    "    b -= 1\n",
    "    try:\n",
    "        res = a / b\n",
    "    except ZeroDivisionError:\n",
    "        print('{0}, {1} - division by 0'.format(a, b))\n",
    "        res = 0\n",
    "        break\n",
    "    finally:\n",
    "        print('{0}, {1} - always executes'.format(a, b))\n",
    "        \n",
    "    print('{0}, {1} - main loop'.format(a, b))"
   ]
  },
  {
   "cell_type": "code",
   "execution_count": 10,
   "metadata": {},
   "outputs": [
    {
     "name": "stdout",
     "output_type": "stream",
     "text": [
      "-------------\n",
      "1, 4 - always executes\n",
      "1, 4 - main loop\n",
      "-------------\n",
      "2, 3 - always executes\n",
      "2, 3 - main loop\n",
      "-------------\n",
      "3, 2 - always executes\n",
      "3, 2 - main loop\n",
      "\n",
      "\n",
      "no errors were encountered!\n"
     ]
    }
   ],
   "source": [
    "# else executes when there is no error encountered\n",
    "a = 0\n",
    "b = 5\n",
    "\n",
    "while a < 3:\n",
    "    print('-------------')\n",
    "    a += 1\n",
    "    b -= 1\n",
    "    try:\n",
    "        res = a / b\n",
    "    except ZeroDivisionError:\n",
    "        print('{0}, {1} - division by 0'.format(a, b))\n",
    "        res = 0\n",
    "        break\n",
    "    finally:\n",
    "        print('{0}, {1} - always executes'.format(a, b))\n",
    "        \n",
    "    print('{0}, {1} - main loop'.format(a, b))\n",
    "else:\n",
    "    print('\\n\\nno errors were encountered!')\n",
    "    \n",
    "# same with try except else \n",
    "#if there is no exception, else gets executed\n",
    "#Try: This block will test the excepted error to occur\n",
    "#Except:  Here you can handle the error\n",
    "#Else: If there is no exception then this block will be executed\n",
    "#Finally: Finally block always gets executed either exception is generated or not"
   ]
  },
  {
   "cell_type": "code",
   "execution_count": 12,
   "metadata": {},
   "outputs": [
    {
     "name": "stdout",
     "output_type": "stream",
     "text": [
      "1\n",
      "2\n",
      "3\n",
      "4\n",
      "No multiples of 7 encountered\n",
      "0 h\n",
      "1 e\n",
      "2 l\n",
      "3 l\n",
      "4 o\n"
     ]
    }
   ],
   "source": [
    "#The for loop, like the while loop, also supports an else clause which is executed\n",
    "#if and only if the loop terminates normally (i.e. did not exit because of a break statement)\n",
    "for i in range(1, 5):\n",
    "    print(i)\n",
    "    if i % 7 == 0:\n",
    "        print('multiple of 7 found')\n",
    "        break\n",
    "else:\n",
    "    print('No multiples of 7 encountered')\n",
    "\n",
    "s = 'hello'\n",
    "\n",
    "#enumerate\n",
    "for i, c in enumerate(s):\n",
    "    print(i, c)"
   ]
  },
  {
   "cell_type": "code",
   "execution_count": null,
   "metadata": {},
   "outputs": [],
   "source": [
    "#variables as memory referencing\n",
    "my_var = 10\n",
    "seconf_var = 10\n",
    "print(hex(id(my_var)))\n",
    "print(hex(id(seconf_var))) #same memory location.\n",
    "#reference count\n",
    "import sys\n",
    "sys.getrefcount(my_var)\n",
    "import ctypes\n",
    "ctypes.c_long.from_address(my_var).value"
   ]
  },
  {
   "cell_type": "code",
   "execution_count": null,
   "metadata": {},
   "outputs": [],
   "source": []
  }
 ],
 "metadata": {
  "kernelspec": {
   "display_name": "Python 3",
   "language": "python",
   "name": "python3"
  },
  "language_info": {
   "codemirror_mode": {
    "name": "ipython",
    "version": 3
   },
   "file_extension": ".py",
   "mimetype": "text/x-python",
   "name": "python",
   "nbconvert_exporter": "python",
   "pygments_lexer": "ipython3",
   "version": "3.7.4"
  }
 },
 "nbformat": 4,
 "nbformat_minor": 2
}
