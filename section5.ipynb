{
 "cells": [
  {
   "cell_type": "code",
   "execution_count": 5,
   "metadata": {},
   "outputs": [
    {
     "name": "stdout",
     "output_type": "stream",
     "text": [
      "a=1, b=2, c=3\n",
      "a=10, b=2, c=30\n",
      "a=1, b=2, c=3\n",
      "a=1, b=2, c=4\n"
     ]
    }
   ],
   "source": [
    "#Section 5\n",
    "\n",
    "#Positional Arguments\n",
    "def my_func(a, b=2, c=3):\n",
    "    print(\"a={0}, b={1}, c={2}\".format(a, b, c))\n",
    "    \n",
    "my_func(1,2,3)\n",
    "#Note that once a parameter is assigned a default value,\n",
    "#all parameters thereafter must be asigned a default value too!\n",
    "#Note that once a keyword argument has been used, all arguments thereafter must also be named:\n",
    "# can't do def my_func(a=1,b,c)\n",
    "my_func(10, c=30)\n",
    "my_func(1)\n",
    "my_func(1,c=4)"
   ]
  },
  {
   "cell_type": "code",
   "execution_count": 9,
   "metadata": {},
   "outputs": [
    {
     "name": "stdout",
     "output_type": "stream",
     "text": [
      "1 2 3 4\n",
      "X Y Z\n",
      "a=Y, b=X\n"
     ]
    }
   ],
   "source": [
    "## Unpacking Iterables\n",
    "a = 1, 2, 3  # typle\n",
    "# In fact what defines a tuple is not (), but the , (comma)\n",
    "a = (1,)\n",
    "# a = 1, also works\n",
    "# The only exception is to create an empty tuple:\n",
    "l = [1, 2, 3, 4]\n",
    "a, b, c, d = l\n",
    "print(a, b, c, d)\n",
    "\n",
    "a, b, c = 'XYZ'\n",
    "print(a, b, c)\n",
    "\n",
    "a, b = b, a\n",
    "print(\"a={0}, b={1}\".format(a, b))\n"
   ]
  },
  {
   "cell_type": "code",
   "execution_count": 12,
   "metadata": {},
   "outputs": [
    {
     "name": "stdout",
     "output_type": "stream",
     "text": [
      "p\n",
      "y\n",
      "t\n",
      "h\n",
      "o\n",
      "n\n"
     ]
    }
   ],
   "source": [
    "# Unpacking Unordered Objects\n",
    "dict1 = {'p': 1, 'y': 2, 't': 3, 'h': 4, 'o': 5, 'n': 6}\n",
    "# Note that this order is not guaranteed. You can always use an OrderedDict if that is a requirement.\n",
    "# also applies to set s = {'p', 'y', 't', 'h', 'o', 'n'}\n",
    "a, b, c, d, e, f = dict1\n",
    "print(a)\n",
    "print(b)\n",
    "print(c)\n",
    "print(d)\n",
    "print(e)\n",
    "print(f)"
   ]
  },
  {
   "cell_type": "code",
   "execution_count": 17,
   "metadata": {},
   "outputs": [
    {
     "name": "stdout",
     "output_type": "stream",
     "text": [
      "1\n",
      "[2, 3, 4, 5, 6]\n",
      "1\n",
      "[2, 3, 4, 5, 6]\n",
      "1\n",
      "[2, 3, 4, 5, 6]\n",
      "-10\n",
      "[5, 2, 100]\n",
      "p\n",
      "['y', 't', 'h', 'o', 'n']\n",
      "p\n",
      "y\n",
      "tho\n",
      "n\n",
      "p\n",
      "y\n",
      "['t', 'h', 'o']\n",
      "n\n"
     ]
    }
   ],
   "source": [
    "# Extended Unpacking\n",
    "# Let's see how we might split a list into it's first element, and \"everything else\" using slicing:\n",
    "l = [1, 2, 3, 4, 5, 6]\n",
    "a = l[0]\n",
    "b = l[1:]\n",
    "print(a)\n",
    "print(b)\n",
    "\n",
    "a, b = l[0], l[1:]\n",
    "print(a)\n",
    "print(b)\n",
    "\n",
    "a, *b = l\n",
    "print(a)\n",
    "print(b)\n",
    "\n",
    "a, *b = -10, 5, 2, 100\n",
    "print(a)\n",
    "print(b)\n",
    "\n",
    "a, *b = 'python'\n",
    "print(a)\n",
    "print(b)\n",
    "\n",
    "s = 'python'\n",
    "\n",
    "a, b, c, d = s[0], s[1], s[2:-1], s[-1]\n",
    "print(a)\n",
    "print(b)\n",
    "print(c)\n",
    "print(d)\n",
    "\n",
    "# or use *\n",
    "a, b, *c, d = s\n",
    "print(a)\n",
    "print(b)\n",
    "print(c)\n",
    "print(d)"
   ]
  },
  {
   "cell_type": "code",
   "execution_count": 19,
   "metadata": {},
   "outputs": [
    {
     "name": "stdout",
     "output_type": "stream",
     "text": [
      "[1, 2, 3, 4, 5, 6]\n",
      "[1, 2, 3, 'A', 'B', 'C']\n"
     ]
    }
   ],
   "source": [
    "# We can also use unpacking on the right hand side of an assignment expression:\n",
    "l1 = [1, 2, 3]\n",
    "l2 = [4, 5, 6]\n",
    "l = [*l1, *l2]\n",
    "print(l)\n",
    "\n",
    "l1 = [1, 2, 3]\n",
    "s = 'ABC'\n",
    "l = [*l1, *s]\n",
    "print(l)"
   ]
  },
  {
   "cell_type": "code",
   "execution_count": 21,
   "metadata": {},
   "outputs": [
    {
     "name": "stdout",
     "output_type": "stream",
     "text": [
      "{1, 2, 3, 4, 5, 6, 7, 8, 9}\n",
      "{1, 2, 3, 4, 5, 6, 7, 8, 9}\n"
     ]
    }
   ],
   "source": [
    "#join sets\n",
    "# + doesnot work\n",
    "# {*s1, *s2, *s3, *s4}\n",
    "s1 = {1, 2, 3}\n",
    "s2 = {3, 4, 5}\n",
    "s3 = {5, 6, 7}\n",
    "s4 = {7, 8, 9}\n",
    "print(s1.union(s2).union(s3).union(s4))\n",
    "print(s1.union(s2, s3, s4))"
   ]
  },
  {
   "cell_type": "code",
   "execution_count": 24,
   "metadata": {},
   "outputs": [
    {
     "data": {
      "text/plain": [
       "{'key1': 1, 'key2': 3, 'key3': 3}"
      ]
     },
     "execution_count": 24,
     "metadata": {},
     "output_type": "execute_result"
    }
   ],
   "source": [
    "# The same works for dictionaries - just remember that * for dictionaries unpacks the keys only.\n",
    "d1 = {'key1': 1, 'key2': 2}\n",
    "d2 = {'key2': 3, 'key3': 3}\n",
    "[*d1, *d2]\n",
    "\n",
    "d1 = {'key1': 1, 'key2': 2}\n",
    "d2 = {'key2': 3, 'key3': 3}\n",
    "\n",
    "{**d1, **d2}\n",
    "#Notice what happened to the value of key2. The value for the second occurrence of key2 was retained (overwritten)."
   ]
  },
  {
   "cell_type": "raw",
   "metadata": {},
   "source": [
    "#args\n"
   ]
  },
  {
   "cell_type": "code",
   "execution_count": 25,
   "metadata": {},
   "outputs": [
    {
     "name": "stdout",
     "output_type": "stream",
     "text": [
      "1\n",
      "2\n",
      "('a', 'b')\n"
     ]
    }
   ],
   "source": [
    "def func1(a, b, *args):\n",
    "    print(a)\n",
    "    print(b)\n",
    "    print(args)\n",
    "\n",
    "func1(1, 2, 'a', 'b')\n",
    "\n",
    "#Unlike iterable unpacking, *args will be a tuple, not a list.\n",
    "\n",
    "#The name of the parameter args can be anything you prefer\n",
    "\n",
    "#You cannot specify positional arguments after the *args parameter - this does something different that we'll cover in the next lecture."
   ]
  },
  {
   "cell_type": "code",
   "execution_count": 26,
   "metadata": {},
   "outputs": [
    {
     "ename": "SyntaxError",
     "evalue": "positional argument follows keyword argument (<ipython-input-26-a96a5e333513>, line 7)",
     "output_type": "error",
     "traceback": [
      "\u001b[1;36m  File \u001b[1;32m\"<ipython-input-26-a96a5e333513>\"\u001b[1;36m, line \u001b[1;32m7\u001b[0m\n\u001b[1;33m    func1(10, c=20, b=10, 'a', 'b')\u001b[0m\n\u001b[1;37m                         ^\u001b[0m\n\u001b[1;31mSyntaxError\u001b[0m\u001b[1;31m:\u001b[0m positional argument follows keyword argument\n"
     ]
    }
   ],
   "source": [
    "def func1(a, b, c, *d):\n",
    "    print(a)\n",
    "    print(b)\n",
    "    print(c)\n",
    "    print(d)\n",
    "\n",
    "func1(10, c=20, b=10, 'a', 'b')"
   ]
  },
  {
   "cell_type": "code",
   "execution_count": 27,
   "metadata": {},
   "outputs": [
    {
     "name": "stdout",
     "output_type": "stream",
     "text": [
      "5 4 (3, 2, 1) 0 all engines running\n",
      "0 600 () goooood morning python!\n",
      "11 m/s (24, 'mph') unladen swallow\n"
     ]
    }
   ],
   "source": [
    "#We can also include positional non-defaulted (first), \n",
    "#positional defaulted (after positional non-defaulted) followed lastly \n",
    "#(after exhausting positional arguments) by keyword args (defaulted or non-defaulted in any order)\n",
    "def func1(a, b=20, *args, d=0, e='n/a'):\n",
    "    print(a, b, args, d, e)\n",
    "func1(5, 4, 3, 2, 1, d=0, e='all engines running')\n",
    "func1(0, 600, d='goooood morning', e='python!')\n",
    "func1(11, 'm/s', 24, 'mph', d='unladen', e='swallow')"
   ]
  },
  {
   "cell_type": "code",
   "execution_count": null,
   "metadata": {},
   "outputs": [],
   "source": [
    "def func(*args, **kwargs):\n",
    "    print(args, kwargs)\n",
    "func(1, 2, 3, x=100, y=200, z=300)"
   ]
  }
 ],
 "metadata": {
  "kernelspec": {
   "display_name": "Python 3",
   "language": "python",
   "name": "python3"
  },
  "language_info": {
   "codemirror_mode": {
    "name": "ipython",
    "version": 3
   },
   "file_extension": ".py",
   "mimetype": "text/x-python",
   "name": "python",
   "nbconvert_exporter": "python",
   "pygments_lexer": "ipython3",
   "version": "3.7.4"
  }
 },
 "nbformat": 4,
 "nbformat_minor": 2
}
